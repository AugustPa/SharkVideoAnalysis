{
 "cells": [
  {
   "cell_type": "code",
   "execution_count": 16,
   "metadata": {},
   "outputs": [
    {
     "name": "stdout",
     "output_type": "stream",
     "text": [
      "loading Roboflow workspace...\n",
      "{\n",
      "  \"name\": \"fish\",\n",
      "  \"url\": \"fish-o3fkg\",\n",
      "  \"projects\": [\n",
      "    \"fish-o3fkg/fishschool-xe9ar\",\n",
      "    \"fish-o3fkg/storks\"\n",
      "  ]\n",
      "}\n",
      "loading Roboflow workspace...\n",
      "loading Roboflow project...\n"
     ]
    }
   ],
   "source": [
    "from roboflow import Roboflow\n",
    "# Initialize the Roboflow object with your API key\n",
    "rf = Roboflow(api_key=\"fi3CVTjykVMuWO0vtzDh\")\n",
    "# Retrieve your current workspace and project name\n",
    "print(rf.workspace())\n",
    "# Specify the project for upload\n",
    "# let's you have a project at https://app.roboflow.com/my-workspace/my-project\n",
    "workspaceId = 'fish'\n",
    "projectId = 'fishschool'\n",
    "project = rf.workspace(workspaceId).project(projectId)"
   ]
  },
  {
   "cell_type": "code",
   "execution_count": 18,
   "metadata": {},
   "outputs": [
    {
     "data": {
      "text/plain": [
       "<roboflow.core.project.Project at 0x28b4ce750>"
      ]
     },
     "execution_count": 18,
     "metadata": {},
     "output_type": "execute_result"
    }
   ],
   "source": [
    "projec"
   ]
  },
  {
   "cell_type": "code",
   "execution_count": 17,
   "metadata": {},
   "outputs": [
    {
     "name": "stdout",
     "output_type": "stream",
     "text": [
      "An error occured when getting the model upload URL: 404 Client Error: Not Found for url: https://api.roboflow.com/fish/fishschool/5/uploadModel?api_key=fi3CVTjykVMuWO0vtzDh&modelType=yolov8&nocache=true\n"
     ]
    }
   ],
   "source": [
    "version = project.version(5)\n",
    "version.deploy(\"yolov8\", '/Users/apaula/Downloads/model')"
   ]
  },
  {
   "cell_type": "code",
   "execution_count": 9,
   "metadata": {},
   "outputs": [
    {
     "data": {
      "text/plain": [
       "<roboflow.core.version.Version at 0x289350810>"
      ]
     },
     "execution_count": 9,
     "metadata": {},
     "output_type": "execute_result"
    }
   ],
   "source": [
    "project.version(6)"
   ]
  },
  {
   "cell_type": "code",
   "execution_count": null,
   "metadata": {},
   "outputs": [],
   "source": [
    "import roboflow\n",
    "\n",
    "rf = roboflow.Roboflow(api_key=YOUR_API_KEY_HERE)\n",
    "\n",
    "# get a project\n",
    "project = rf.workspace().project(\"PROJECT_ID\")\n",
    "\n",
    "# Upload image to dataset\n",
    "project.upload_dataset(\n",
    "    dataset_path=\"./dataset/\",\n",
    "    num_workers=10,\n",
    "    dataset_format=\"yolov8\",\n",
    "    project_license=\"MIT\",\n",
    "    project_type=\"object-detection\"\n",
    ")"
   ]
  }
 ],
 "metadata": {
  "kernelspec": {
   "display_name": "opencv_env",
   "language": "python",
   "name": "python3"
  },
  "language_info": {
   "codemirror_mode": {
    "name": "ipython",
    "version": 3
   },
   "file_extension": ".py",
   "mimetype": "text/x-python",
   "name": "python",
   "nbconvert_exporter": "python",
   "pygments_lexer": "ipython3",
   "version": "3.11.0"
  }
 },
 "nbformat": 4,
 "nbformat_minor": 2
}
