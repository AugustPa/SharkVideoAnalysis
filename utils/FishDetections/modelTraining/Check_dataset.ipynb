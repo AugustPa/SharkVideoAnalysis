{
 "cells": [
  {
   "cell_type": "code",
   "execution_count": 4,
   "metadata": {},
   "outputs": [
    {
     "name": "stdout",
     "output_type": "stream",
     "text": [
      "Starting HUB dataset checks for /Users/apaula/Downloads/yoloWormSeg.zip....\n"
     ]
    },
    {
     "name": "stderr",
     "output_type": "stream",
     "text": [
      "Unzipping /Users/apaula/Downloads/yoloWormSeg.zip to /Users/apaula/Downloads/yoloWormSeg...: 100%|██████████| 866/866 [00:00<00:00, 2480.39file/s]\n",
      "Scanning /Users/apaula/Downloads/yoloWormSeg/labels/train... 214 images, 15 backgrounds, 0 corrupt: 100%|██████████| 214/214 [00:00<00:00, 1122.65it/s]"
     ]
    },
    {
     "name": "stdout",
     "output_type": "stream",
     "text": [
      "New cache created: /Users/apaula/Downloads/yoloWormSeg/labels/train.cache\n"
     ]
    },
    {
     "name": "stderr",
     "output_type": "stream",
     "text": [
      "\n",
      "Statistics: 100%|██████████| 214/214 [00:00<00:00, 148926.67it/s]\n",
      "Scanning /Users/apaula/Downloads/yoloWormSeg/labels/val... 215 images, 9 backgrounds, 0 corrupt: 100%|██████████| 215/215 [00:00<00:00, 1277.25it/s]\n"
     ]
    },
    {
     "name": "stdout",
     "output_type": "stream",
     "text": [
      "New cache created: /Users/apaula/Downloads/yoloWormSeg/labels/val.cache\n"
     ]
    },
    {
     "name": "stderr",
     "output_type": "stream",
     "text": [
      "Statistics: 100%|██████████| 215/215 [00:00<00:00, 348984.27it/s]"
     ]
    },
    {
     "name": "stdout",
     "output_type": "stream",
     "text": [
      "Checks completed correctly ✅. Upload this dataset to https://hub.ultralytics.com/datasets/.\n"
     ]
    },
    {
     "name": "stderr",
     "output_type": "stream",
     "text": [
      "\n"
     ]
    }
   ],
   "source": [
    "from ultralytics.hub import check_dataset\n",
    "\n",
    "check_dataset('/Users/apaula/Downloads/yoloWormSeg.zip')"
   ]
  }
 ],
 "metadata": {
  "kernelspec": {
   "display_name": "opencv_env",
   "language": "python",
   "name": "python3"
  },
  "language_info": {
   "codemirror_mode": {
    "name": "ipython",
    "version": 3
   },
   "file_extension": ".py",
   "mimetype": "text/x-python",
   "name": "python",
   "nbconvert_exporter": "python",
   "pygments_lexer": "ipython3",
   "version": "3.11.0"
  }
 },
 "nbformat": 4,
 "nbformat_minor": 2
}
